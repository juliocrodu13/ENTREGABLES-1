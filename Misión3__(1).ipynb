{
  "nbformat": 4,
  "nbformat_minor": 0,
  "metadata": {
    "colab": {
      "provenance": [],
      "include_colab_link": true
    },
    "kernelspec": {
      "name": "python3",
      "display_name": "Python 3"
    },
    "language_info": {
      "name": "python"
    }
  },
  "cells": [
    {
      "cell_type": "markdown",
      "metadata": {
        "id": "view-in-github",
        "colab_type": "text"
      },
      "source": [
        "<a href=\"https://colab.research.google.com/github/juliocrodu13/ENTREGABLES-1/blob/main/Misi%C3%B3n3__(1).ipynb\" target=\"_parent\"><img src=\"https://colab.research.google.com/assets/colab-badge.svg\" alt=\"Open In Colab\"/></a>"
      ]
    },
    {
      "cell_type": "markdown",
      "source": [
        "* Julio César Rodríguez Duque\n",
        "* Andrés Eduardo Ríos Castañeda\n",
        "* Héctor Uriel Camacho Alzate\n",
        "* Daniela Serna Gómez"
      ],
      "metadata": {
        "id": "CUsX8QNzl3sh"
      }
    },
    {
      "cell_type": "markdown",
      "source": [
        "**MISIÓN 3**\n",
        "\n",
        "**1. Descarga del Conjunto de Datos:**\n",
        "\n",
        "*  Acceso al conjunto de datos en [Kaggle](https://www.kaggle.com/datasets/datafiniti/consumer-reviews-of-amazon-products).\n",
        "*  Inicio de sesión en la cuenta de Kaggle y descarga del archivo CSV correspondiente."
      ],
      "metadata": {
        "id": "YQAVFxIkf6Wb"
      }
    },
    {
      "cell_type": "markdown",
      "source": [
        "**2. Carga del Conjunto de Datos en Jupyter Notebook:**\n",
        "\n",
        "*  Utilización la biblioteca **pandas** para cargar el archivo CSV en un DataFrame"
      ],
      "metadata": {
        "id": "T756dalxgRm_"
      }
    },
    {
      "cell_type": "code",
      "execution_count": null,
      "metadata": {
        "colab": {
          "base_uri": "https://localhost:8080/"
        },
        "id": "SVQaEyePfw_n",
        "outputId": "93c39be1-7cf6-48a3-f5b3-a967c4906d41"
      },
      "outputs": [
        {
          "output_type": "stream",
          "name": "stdout",
          "text": [
            "                     id             dateAdded           dateUpdated  \\\n",
            "0  AVqVGZNvQMlgsOJE6eUY  2017-03-03T16:56:05Z  2018-10-25T16:36:31Z   \n",
            "1  AVqVGZNvQMlgsOJE6eUY  2017-03-03T16:56:05Z  2018-10-25T16:36:31Z   \n",
            "2  AVqVGZNvQMlgsOJE6eUY  2017-03-03T16:56:05Z  2018-10-25T16:36:31Z   \n",
            "3  AVqVGZNvQMlgsOJE6eUY  2017-03-03T16:56:05Z  2018-10-25T16:36:31Z   \n",
            "4  AVqVGZNvQMlgsOJE6eUY  2017-03-03T16:56:05Z  2018-10-25T16:36:31Z   \n",
            "\n",
            "                                                name       asins   brand  \\\n",
            "0  Amazon Kindle E-Reader 6\" Wifi (8th Generation...  B00ZV9PXP2  Amazon   \n",
            "1  Amazon Kindle E-Reader 6\" Wifi (8th Generation...  B00ZV9PXP2  Amazon   \n",
            "2  Amazon Kindle E-Reader 6\" Wifi (8th Generation...  B00ZV9PXP2  Amazon   \n",
            "3  Amazon Kindle E-Reader 6\" Wifi (8th Generation...  B00ZV9PXP2  Amazon   \n",
            "4  Amazon Kindle E-Reader 6\" Wifi (8th Generation...  B00ZV9PXP2  Amazon   \n",
            "\n",
            "                                          categories primaryCategories  \\\n",
            "0  Computers,Electronics Features,Tablets,Electro...       Electronics   \n",
            "1  Computers,Electronics Features,Tablets,Electro...       Electronics   \n",
            "2  Computers,Electronics Features,Tablets,Electro...       Electronics   \n",
            "3  Computers,Electronics Features,Tablets,Electro...       Electronics   \n",
            "4  Computers,Electronics Features,Tablets,Electro...       Electronics   \n",
            "\n",
            "                                           imageURLs  \\\n",
            "0  https://pisces.bbystatic.com/image2/BestBuy_US...   \n",
            "1  https://pisces.bbystatic.com/image2/BestBuy_US...   \n",
            "2  https://pisces.bbystatic.com/image2/BestBuy_US...   \n",
            "3  https://pisces.bbystatic.com/image2/BestBuy_US...   \n",
            "4  https://pisces.bbystatic.com/image2/BestBuy_US...   \n",
            "\n",
            "                                                keys  ...  \\\n",
            "0  allnewkindleereaderblack6glarefreetouchscreend...  ...   \n",
            "1  allnewkindleereaderblack6glarefreetouchscreend...  ...   \n",
            "2  allnewkindleereaderblack6glarefreetouchscreend...  ...   \n",
            "3  allnewkindleereaderblack6glarefreetouchscreend...  ...   \n",
            "4  allnewkindleereaderblack6glarefreetouchscreend...  ...   \n",
            "\n",
            "                                    reviews.dateSeen reviews.doRecommend  \\\n",
            "0  2018-05-27T00:00:00Z,2017-09-18T00:00:00Z,2017...               False   \n",
            "1  2018-05-27T00:00:00Z,2017-07-07T00:00:00Z,2017...                True   \n",
            "2                               2018-05-27T00:00:00Z                True   \n",
            "3                               2018-10-09T00:00:00Z                True   \n",
            "4                               2018-05-27T00:00:00Z                True   \n",
            "\n",
            "    reviews.id reviews.numHelpful reviews.rating  \\\n",
            "0          NaN                  0              3   \n",
            "1          NaN                  0              5   \n",
            "2          NaN                  0              4   \n",
            "3  177283626.0                  3              5   \n",
            "4          NaN                  0              5   \n",
            "\n",
            "                                  reviews.sourceURLs  \\\n",
            "0  http://reviews.bestbuy.com/3545/5442403/review...   \n",
            "1  http://reviews.bestbuy.com/3545/5442403/review...   \n",
            "2  https://reviews.bestbuy.com/3545/5442403/revie...   \n",
            "3  https://redsky.target.com/groot-domain-api/v1/...   \n",
            "4  https://reviews.bestbuy.com/3545/5442403/revie...   \n",
            "\n",
            "                                        reviews.text  \\\n",
            "0  I thought it would be as big as small paper bu...   \n",
            "1  This kindle is light and easy to use especiall...   \n",
            "2  Didnt know how much i'd use a kindle so went f...   \n",
            "3  I am 100 happy with my purchase. I caught it o...   \n",
            "4  Solid entry level Kindle. Great for kids. Gift...   \n",
            "\n",
            "                                  reviews.title  reviews.username  \\\n",
            "0                                     Too small            llyyue   \n",
            "1  Great light reader. Easy to use at the beach            Charmi   \n",
            "2                           Great for the price      johnnyjojojo   \n",
            "3                                   A Great Buy           Kdperry   \n",
            "4      Solid entry-level Kindle. Great for kids       Johnnyblack   \n",
            "\n",
            "                                          sourceURLs  \n",
            "0  https://www.newegg.com/Product/Product.aspx%25...  \n",
            "1  https://www.newegg.com/Product/Product.aspx%25...  \n",
            "2  https://www.newegg.com/Product/Product.aspx%25...  \n",
            "3  https://www.newegg.com/Product/Product.aspx%25...  \n",
            "4  https://www.newegg.com/Product/Product.aspx%25...  \n",
            "\n",
            "[5 rows x 24 columns]\n"
          ]
        }
      ],
      "source": [
        "import pandas as pd\n",
        "\n",
        "# Cargar el conjunto de datos\n",
        "df = pd.read_csv('/content/Datafiniti_Amazon_Consumer_Reviews_of_Amazon_Products.csv')\n",
        "\n",
        "# Mostrar las primeras filas del DataFrame\n",
        "print(df.head())"
      ]
    },
    {
      "cell_type": "markdown",
      "source": [
        "**3. Tokenización:**\n",
        "\n",
        "Se emplean nltk para dividir el texto en tokens:"
      ],
      "metadata": {
        "id": "qR6C5QXpgcrH"
      }
    },
    {
      "cell_type": "code",
      "source": [
        "import nltk\n",
        "from nltk.tokenize import word_tokenize\n",
        "\n",
        "# Descargar recursos necesarios\n",
        "nltk.download('punkt')\n",
        "nltk.download('punkt_tab')\n",
        "\n",
        "# Tokenizar una reseña de ejemplo\n",
        "ejemplo = df['reviews.text'][0]\n",
        "tokens = word_tokenize(ejemplo.lower())\n",
        "print(tokens)\n"
      ],
      "metadata": {
        "colab": {
          "base_uri": "https://localhost:8080/"
        },
        "id": "jJfRzB2SgfOh",
        "outputId": "6836c226-0793-4572-b1f1-f271ccff0cc8"
      },
      "execution_count": null,
      "outputs": [
        {
          "output_type": "stream",
          "name": "stderr",
          "text": [
            "[nltk_data] Downloading package punkt to /root/nltk_data...\n",
            "[nltk_data]   Unzipping tokenizers/punkt.zip.\n",
            "[nltk_data] Downloading package punkt_tab to /root/nltk_data...\n",
            "[nltk_data]   Unzipping tokenizers/punkt_tab.zip.\n"
          ]
        },
        {
          "output_type": "stream",
          "name": "stdout",
          "text": [
            "['i', 'thought', 'it', 'would', 'be', 'as', 'big', 'as', 'small', 'paper', 'but', 'turn', 'out', 'to', 'be', 'just', 'like', 'my', 'palm', '.', 'i', 'think', 'it', 'is', 'too', 'small', 'to', 'read', 'on', 'it', '...', 'not', 'very', 'comfortable', 'as', 'regular', 'kindle', '.', 'would', 'definitely', 'recommend', 'a', 'paperwhite', 'instead', '.']\n"
          ]
        }
      ]
    },
    {
      "cell_type": "markdown",
      "source": [
        "**4. Normalización:**\n",
        "\n",
        "Se convierte el texto a minúsculas y eliminar caracteres especiales:"
      ],
      "metadata": {
        "id": "fhXxNLoJiJha"
      }
    },
    {
      "cell_type": "code",
      "source": [
        "import re\n",
        "\n",
        "def normalizar(texto):\n",
        "    # Convertir a minúsculas\n",
        "    texto = texto.lower()\n",
        "    # Eliminar caracteres especiales y números\n",
        "    texto = re.sub(r'[^a-záéíóúüñ\\s]', '', texto)\n",
        "    return texto\n",
        "\n",
        "df['texto_normalizado'] = df['reviews.text'].apply(normalizar)\n",
        "\n",
        "df['texto_normalizado'].head(10)"
      ],
      "metadata": {
        "id": "m4K5fQaMgmhy",
        "colab": {
          "base_uri": "https://localhost:8080/",
          "height": 398
        },
        "outputId": "518e8b03-ec17-4891-f4b6-ac043388d933"
      },
      "execution_count": null,
      "outputs": [
        {
          "output_type": "execute_result",
          "data": {
            "text/plain": [
              "0    i thought it would be as big as small paper bu...\n",
              "1    this kindle is light and easy to use especiall...\n",
              "2    didnt know how much id use a kindle so went fo...\n",
              "3    i am  happy with my purchase i caught it on sa...\n",
              "4    solid entry level kindle great for kids gifted...\n",
              "5    this make an excellent ebook reader dont expec...\n",
              "6    i ordered this for my daughter as i have the b...\n",
              "7    i bought my kindle about  months ago and the b...\n",
              "8    amazon kindle is always the best ebook upgrade...\n",
              "9    its beyond my expectation and it can even show...\n",
              "Name: texto_normalizado, dtype: object"
            ],
            "text/html": [
              "<div>\n",
              "<style scoped>\n",
              "    .dataframe tbody tr th:only-of-type {\n",
              "        vertical-align: middle;\n",
              "    }\n",
              "\n",
              "    .dataframe tbody tr th {\n",
              "        vertical-align: top;\n",
              "    }\n",
              "\n",
              "    .dataframe thead th {\n",
              "        text-align: right;\n",
              "    }\n",
              "</style>\n",
              "<table border=\"1\" class=\"dataframe\">\n",
              "  <thead>\n",
              "    <tr style=\"text-align: right;\">\n",
              "      <th></th>\n",
              "      <th>texto_normalizado</th>\n",
              "    </tr>\n",
              "  </thead>\n",
              "  <tbody>\n",
              "    <tr>\n",
              "      <th>0</th>\n",
              "      <td>i thought it would be as big as small paper bu...</td>\n",
              "    </tr>\n",
              "    <tr>\n",
              "      <th>1</th>\n",
              "      <td>this kindle is light and easy to use especiall...</td>\n",
              "    </tr>\n",
              "    <tr>\n",
              "      <th>2</th>\n",
              "      <td>didnt know how much id use a kindle so went fo...</td>\n",
              "    </tr>\n",
              "    <tr>\n",
              "      <th>3</th>\n",
              "      <td>i am  happy with my purchase i caught it on sa...</td>\n",
              "    </tr>\n",
              "    <tr>\n",
              "      <th>4</th>\n",
              "      <td>solid entry level kindle great for kids gifted...</td>\n",
              "    </tr>\n",
              "    <tr>\n",
              "      <th>5</th>\n",
              "      <td>this make an excellent ebook reader dont expec...</td>\n",
              "    </tr>\n",
              "    <tr>\n",
              "      <th>6</th>\n",
              "      <td>i ordered this for my daughter as i have the b...</td>\n",
              "    </tr>\n",
              "    <tr>\n",
              "      <th>7</th>\n",
              "      <td>i bought my kindle about  months ago and the b...</td>\n",
              "    </tr>\n",
              "    <tr>\n",
              "      <th>8</th>\n",
              "      <td>amazon kindle is always the best ebook upgrade...</td>\n",
              "    </tr>\n",
              "    <tr>\n",
              "      <th>9</th>\n",
              "      <td>its beyond my expectation and it can even show...</td>\n",
              "    </tr>\n",
              "  </tbody>\n",
              "</table>\n",
              "</div><br><label><b>dtype:</b> object</label>"
            ]
          },
          "metadata": {},
          "execution_count": 15
        }
      ]
    },
    {
      "cell_type": "markdown",
      "source": [
        "**5. Eliminación de Stopwords:**\n",
        "\n",
        "Se utilizan **nltk** para eliminar palabras comunes que no aportan valor semántico:"
      ],
      "metadata": {
        "id": "oCVyNA3sgowO"
      }
    },
    {
      "cell_type": "code",
      "source": [
        "from nltk.corpus import stopwords\n",
        "\n",
        "# Descargar lista de stopwords\n",
        "nltk.download('stopwords')\n",
        "stop_words = set(stopwords.words('english'))\n",
        "\n",
        "def eliminar_stopwords(texto):\n",
        "    tokens = word_tokenize(texto)\n",
        "    tokens_filtrados = [t for t in tokens if t not in stop_words]\n",
        "    return ' '.join(tokens_filtrados)\n",
        "\n",
        "df['texto_sin_stopwords'] = df['texto_normalizado'].apply(eliminar_stopwords)\n",
        "\n",
        "df['texto_sin_stopwords'].head(10)"
      ],
      "metadata": {
        "colab": {
          "base_uri": "https://localhost:8080/",
          "height": 432
        },
        "id": "tH0T1AQvgt9E",
        "outputId": "8bdf6127-96b3-49be-aea7-3f166538ebc8"
      },
      "execution_count": null,
      "outputs": [
        {
          "output_type": "stream",
          "name": "stderr",
          "text": [
            "[nltk_data] Downloading package stopwords to /root/nltk_data...\n",
            "[nltk_data]   Package stopwords is already up-to-date!\n"
          ]
        },
        {
          "output_type": "execute_result",
          "data": {
            "text/plain": [
              "0    thought would big small paper turn like palm t...\n",
              "1               kindle light easy use especially beach\n",
              "2    didnt know much id use kindle went lower end i...\n",
              "3    happy purchase caught sale really good price n...\n",
              "4    solid entry level kindle great kids gifted kid...\n",
              "5    make excellent ebook reader dont expect much d...\n",
              "6    ordered daughter black paperwhite love read qu...\n",
              "7    bought kindle months ago battery already dead ...\n",
              "8    amazon kindle always best ebook upgrade every ...\n",
              "9    beyond expectation even show music score fast ...\n",
              "Name: texto_sin_stopwords, dtype: object"
            ],
            "text/html": [
              "<div>\n",
              "<style scoped>\n",
              "    .dataframe tbody tr th:only-of-type {\n",
              "        vertical-align: middle;\n",
              "    }\n",
              "\n",
              "    .dataframe tbody tr th {\n",
              "        vertical-align: top;\n",
              "    }\n",
              "\n",
              "    .dataframe thead th {\n",
              "        text-align: right;\n",
              "    }\n",
              "</style>\n",
              "<table border=\"1\" class=\"dataframe\">\n",
              "  <thead>\n",
              "    <tr style=\"text-align: right;\">\n",
              "      <th></th>\n",
              "      <th>texto_sin_stopwords</th>\n",
              "    </tr>\n",
              "  </thead>\n",
              "  <tbody>\n",
              "    <tr>\n",
              "      <th>0</th>\n",
              "      <td>thought would big small paper turn like palm t...</td>\n",
              "    </tr>\n",
              "    <tr>\n",
              "      <th>1</th>\n",
              "      <td>kindle light easy use especially beach</td>\n",
              "    </tr>\n",
              "    <tr>\n",
              "      <th>2</th>\n",
              "      <td>didnt know much id use kindle went lower end i...</td>\n",
              "    </tr>\n",
              "    <tr>\n",
              "      <th>3</th>\n",
              "      <td>happy purchase caught sale really good price n...</td>\n",
              "    </tr>\n",
              "    <tr>\n",
              "      <th>4</th>\n",
              "      <td>solid entry level kindle great kids gifted kid...</td>\n",
              "    </tr>\n",
              "    <tr>\n",
              "      <th>5</th>\n",
              "      <td>make excellent ebook reader dont expect much d...</td>\n",
              "    </tr>\n",
              "    <tr>\n",
              "      <th>6</th>\n",
              "      <td>ordered daughter black paperwhite love read qu...</td>\n",
              "    </tr>\n",
              "    <tr>\n",
              "      <th>7</th>\n",
              "      <td>bought kindle months ago battery already dead ...</td>\n",
              "    </tr>\n",
              "    <tr>\n",
              "      <th>8</th>\n",
              "      <td>amazon kindle always best ebook upgrade every ...</td>\n",
              "    </tr>\n",
              "    <tr>\n",
              "      <th>9</th>\n",
              "      <td>beyond expectation even show music score fast ...</td>\n",
              "    </tr>\n",
              "  </tbody>\n",
              "</table>\n",
              "</div><br><label><b>dtype:</b> object</label>"
            ]
          },
          "metadata": {},
          "execution_count": 17
        }
      ]
    },
    {
      "cell_type": "markdown",
      "source": [
        "**6. Lematización:**\n",
        "\n",
        "Aplicación de WordNetLemmatizer de nltk para reducir las palabras a su forma base:"
      ],
      "metadata": {
        "id": "2bru-gvjgxbz"
      }
    },
    {
      "cell_type": "code",
      "source": [
        "from nltk.stem import WordNetLemmatizer\n",
        "\n",
        "# Descargar recursos necesarios\n",
        "nltk.download('wordnet')\n",
        "nltk.download('omw-1.4')\n",
        "lemmatizer = WordNetLemmatizer()\n",
        "\n",
        "def lematizar(texto):\n",
        "    tokens = word_tokenize(texto)\n",
        "    tokens_lematizados = [lemmatizer.lemmatize(t) for t in tokens]\n",
        "    return ' '.join(tokens_lematizados)\n",
        "\n",
        "df['texto_lematizado'] = df['texto_sin_stopwords'].apply(lematizar)\n",
        "\n",
        "df['texto_lematizado'].head(10)\n"
      ],
      "metadata": {
        "colab": {
          "base_uri": "https://localhost:8080/",
          "height": 467
        },
        "id": "h3jrxlGEgvxU",
        "outputId": "154b134e-0ccc-4a2a-9841-d13436721f88"
      },
      "execution_count": null,
      "outputs": [
        {
          "output_type": "stream",
          "name": "stderr",
          "text": [
            "[nltk_data] Downloading package wordnet to /root/nltk_data...\n",
            "[nltk_data]   Package wordnet is already up-to-date!\n",
            "[nltk_data] Downloading package omw-1.4 to /root/nltk_data...\n",
            "[nltk_data]   Package omw-1.4 is already up-to-date!\n"
          ]
        },
        {
          "output_type": "execute_result",
          "data": {
            "text/plain": [
              "0    thought would big small paper turn like palm t...\n",
              "1               kindle light easy use especially beach\n",
              "2    didnt know much id use kindle went lower end i...\n",
              "3    happy purchase caught sale really good price n...\n",
              "4    solid entry level kindle great kid gifted kid ...\n",
              "5    make excellent ebook reader dont expect much d...\n",
              "6    ordered daughter black paperwhite love read qu...\n",
              "7    bought kindle month ago battery already dead c...\n",
              "8    amazon kindle always best ebook upgrade every ...\n",
              "9    beyond expectation even show music score fast ...\n",
              "Name: texto_lematizado, dtype: object"
            ],
            "text/html": [
              "<div>\n",
              "<style scoped>\n",
              "    .dataframe tbody tr th:only-of-type {\n",
              "        vertical-align: middle;\n",
              "    }\n",
              "\n",
              "    .dataframe tbody tr th {\n",
              "        vertical-align: top;\n",
              "    }\n",
              "\n",
              "    .dataframe thead th {\n",
              "        text-align: right;\n",
              "    }\n",
              "</style>\n",
              "<table border=\"1\" class=\"dataframe\">\n",
              "  <thead>\n",
              "    <tr style=\"text-align: right;\">\n",
              "      <th></th>\n",
              "      <th>texto_lematizado</th>\n",
              "    </tr>\n",
              "  </thead>\n",
              "  <tbody>\n",
              "    <tr>\n",
              "      <th>0</th>\n",
              "      <td>thought would big small paper turn like palm t...</td>\n",
              "    </tr>\n",
              "    <tr>\n",
              "      <th>1</th>\n",
              "      <td>kindle light easy use especially beach</td>\n",
              "    </tr>\n",
              "    <tr>\n",
              "      <th>2</th>\n",
              "      <td>didnt know much id use kindle went lower end i...</td>\n",
              "    </tr>\n",
              "    <tr>\n",
              "      <th>3</th>\n",
              "      <td>happy purchase caught sale really good price n...</td>\n",
              "    </tr>\n",
              "    <tr>\n",
              "      <th>4</th>\n",
              "      <td>solid entry level kindle great kid gifted kid ...</td>\n",
              "    </tr>\n",
              "    <tr>\n",
              "      <th>5</th>\n",
              "      <td>make excellent ebook reader dont expect much d...</td>\n",
              "    </tr>\n",
              "    <tr>\n",
              "      <th>6</th>\n",
              "      <td>ordered daughter black paperwhite love read qu...</td>\n",
              "    </tr>\n",
              "    <tr>\n",
              "      <th>7</th>\n",
              "      <td>bought kindle month ago battery already dead c...</td>\n",
              "    </tr>\n",
              "    <tr>\n",
              "      <th>8</th>\n",
              "      <td>amazon kindle always best ebook upgrade every ...</td>\n",
              "    </tr>\n",
              "    <tr>\n",
              "      <th>9</th>\n",
              "      <td>beyond expectation even show music score fast ...</td>\n",
              "    </tr>\n",
              "  </tbody>\n",
              "</table>\n",
              "</div><br><label><b>dtype:</b> object</label>"
            ]
          },
          "metadata": {},
          "execution_count": 18
        }
      ]
    },
    {
      "cell_type": "markdown",
      "source": [
        "**7. Stemming:**\n",
        "\n",
        "Utilización de **PorterStemmer** para reducir las palabras a su raíz:"
      ],
      "metadata": {
        "id": "Nl_a-G9rg39k"
      }
    },
    {
      "cell_type": "code",
      "source": [
        "from nltk.stem import PorterStemmer\n",
        "\n",
        "stemmer = PorterStemmer()\n",
        "\n",
        "def aplicar_stemming(texto):\n",
        "    tokens = word_tokenize(texto)\n",
        "    tokens_stemmizados = [stemmer.stem(t) for t in tokens]\n",
        "    return ' '.join(tokens_stemmizados)\n",
        "\n",
        "df['texto_stemmizado'] = df['texto_sin_stopwords'].apply(aplicar_stemming)\n",
        "\n",
        "df['texto_stemmizado'].head(10)"
      ],
      "metadata": {
        "id": "MWZN_o3Bg7iX",
        "colab": {
          "base_uri": "https://localhost:8080/",
          "height": 398
        },
        "outputId": "a6966f29-94c1-4694-c8f9-27b88b78d5de"
      },
      "execution_count": null,
      "outputs": [
        {
          "output_type": "execute_result",
          "data": {
            "text/plain": [
              "0    thought would big small paper turn like palm t...\n",
              "1                    kindl light easi use especi beach\n",
              "2    didnt know much id use kindl went lower end im...\n",
              "3    happi purchas caught sale realli good price no...\n",
              "4    solid entri level kindl great kid gift kid fri...\n",
              "5    make excel ebook reader dont expect much devic...\n",
              "6    order daughter black paperwhit love read quit ...\n",
              "7    bought kindl month ago batteri alreadi dead charg\n",
              "8    amazon kindl alway best ebook upgrad everi new...\n",
              "9    beyond expect even show music score fast turn ...\n",
              "Name: texto_stemmizado, dtype: object"
            ],
            "text/html": [
              "<div>\n",
              "<style scoped>\n",
              "    .dataframe tbody tr th:only-of-type {\n",
              "        vertical-align: middle;\n",
              "    }\n",
              "\n",
              "    .dataframe tbody tr th {\n",
              "        vertical-align: top;\n",
              "    }\n",
              "\n",
              "    .dataframe thead th {\n",
              "        text-align: right;\n",
              "    }\n",
              "</style>\n",
              "<table border=\"1\" class=\"dataframe\">\n",
              "  <thead>\n",
              "    <tr style=\"text-align: right;\">\n",
              "      <th></th>\n",
              "      <th>texto_stemmizado</th>\n",
              "    </tr>\n",
              "  </thead>\n",
              "  <tbody>\n",
              "    <tr>\n",
              "      <th>0</th>\n",
              "      <td>thought would big small paper turn like palm t...</td>\n",
              "    </tr>\n",
              "    <tr>\n",
              "      <th>1</th>\n",
              "      <td>kindl light easi use especi beach</td>\n",
              "    </tr>\n",
              "    <tr>\n",
              "      <th>2</th>\n",
              "      <td>didnt know much id use kindl went lower end im...</td>\n",
              "    </tr>\n",
              "    <tr>\n",
              "      <th>3</th>\n",
              "      <td>happi purchas caught sale realli good price no...</td>\n",
              "    </tr>\n",
              "    <tr>\n",
              "      <th>4</th>\n",
              "      <td>solid entri level kindl great kid gift kid fri...</td>\n",
              "    </tr>\n",
              "    <tr>\n",
              "      <th>5</th>\n",
              "      <td>make excel ebook reader dont expect much devic...</td>\n",
              "    </tr>\n",
              "    <tr>\n",
              "      <th>6</th>\n",
              "      <td>order daughter black paperwhit love read quit ...</td>\n",
              "    </tr>\n",
              "    <tr>\n",
              "      <th>7</th>\n",
              "      <td>bought kindl month ago batteri alreadi dead charg</td>\n",
              "    </tr>\n",
              "    <tr>\n",
              "      <th>8</th>\n",
              "      <td>amazon kindl alway best ebook upgrad everi new...</td>\n",
              "    </tr>\n",
              "    <tr>\n",
              "      <th>9</th>\n",
              "      <td>beyond expect even show music score fast turn ...</td>\n",
              "    </tr>\n",
              "  </tbody>\n",
              "</table>\n",
              "</div><br><label><b>dtype:</b> object</label>"
            ]
          },
          "metadata": {},
          "execution_count": 19
        }
      ]
    },
    {
      "cell_type": "markdown",
      "source": [
        "**8. Representación de Texto:**\n",
        "\n",
        "*  Bolsa de Palabras (Bag of Words):\n",
        "\n",
        "  *  Utilizar CountVectorizer de **sklearn**:"
      ],
      "metadata": {
        "id": "pBJ8wereg-gZ"
      }
    },
    {
      "cell_type": "code",
      "source": [
        "from sklearn.feature_extraction.text import CountVectorizer\n",
        "\n",
        "vectorizer = CountVectorizer()\n",
        "X_bow = vectorizer.fit_transform(df['texto_lematizado'])\n",
        "\n",
        "df['texto_lematizado'].head(10)"
      ],
      "metadata": {
        "id": "kleTUVaPhFSI",
        "colab": {
          "base_uri": "https://localhost:8080/",
          "height": 398
        },
        "outputId": "50297d3a-2cf1-42c3-c2ce-7a386977903f"
      },
      "execution_count": null,
      "outputs": [
        {
          "output_type": "execute_result",
          "data": {
            "text/plain": [
              "0    thought would big small paper turn like palm t...\n",
              "1               kindle light easy use especially beach\n",
              "2    didnt know much id use kindle went lower end i...\n",
              "3    happy purchase caught sale really good price n...\n",
              "4    solid entry level kindle great kid gifted kid ...\n",
              "5    make excellent ebook reader dont expect much d...\n",
              "6    ordered daughter black paperwhite love read qu...\n",
              "7    bought kindle month ago battery already dead c...\n",
              "8    amazon kindle always best ebook upgrade every ...\n",
              "9    beyond expectation even show music score fast ...\n",
              "Name: texto_lematizado, dtype: object"
            ],
            "text/html": [
              "<div>\n",
              "<style scoped>\n",
              "    .dataframe tbody tr th:only-of-type {\n",
              "        vertical-align: middle;\n",
              "    }\n",
              "\n",
              "    .dataframe tbody tr th {\n",
              "        vertical-align: top;\n",
              "    }\n",
              "\n",
              "    .dataframe thead th {\n",
              "        text-align: right;\n",
              "    }\n",
              "</style>\n",
              "<table border=\"1\" class=\"dataframe\">\n",
              "  <thead>\n",
              "    <tr style=\"text-align: right;\">\n",
              "      <th></th>\n",
              "      <th>texto_lematizado</th>\n",
              "    </tr>\n",
              "  </thead>\n",
              "  <tbody>\n",
              "    <tr>\n",
              "      <th>0</th>\n",
              "      <td>thought would big small paper turn like palm t...</td>\n",
              "    </tr>\n",
              "    <tr>\n",
              "      <th>1</th>\n",
              "      <td>kindle light easy use especially beach</td>\n",
              "    </tr>\n",
              "    <tr>\n",
              "      <th>2</th>\n",
              "      <td>didnt know much id use kindle went lower end i...</td>\n",
              "    </tr>\n",
              "    <tr>\n",
              "      <th>3</th>\n",
              "      <td>happy purchase caught sale really good price n...</td>\n",
              "    </tr>\n",
              "    <tr>\n",
              "      <th>4</th>\n",
              "      <td>solid entry level kindle great kid gifted kid ...</td>\n",
              "    </tr>\n",
              "    <tr>\n",
              "      <th>5</th>\n",
              "      <td>make excellent ebook reader dont expect much d...</td>\n",
              "    </tr>\n",
              "    <tr>\n",
              "      <th>6</th>\n",
              "      <td>ordered daughter black paperwhite love read qu...</td>\n",
              "    </tr>\n",
              "    <tr>\n",
              "      <th>7</th>\n",
              "      <td>bought kindle month ago battery already dead c...</td>\n",
              "    </tr>\n",
              "    <tr>\n",
              "      <th>8</th>\n",
              "      <td>amazon kindle always best ebook upgrade every ...</td>\n",
              "    </tr>\n",
              "    <tr>\n",
              "      <th>9</th>\n",
              "      <td>beyond expectation even show music score fast ...</td>\n",
              "    </tr>\n",
              "  </tbody>\n",
              "</table>\n",
              "</div><br><label><b>dtype:</b> object</label>"
            ]
          },
          "metadata": {},
          "execution_count": 20
        }
      ]
    },
    {
      "cell_type": "markdown",
      "source": [
        "*  TF-IDF:\n",
        "\n",
        "  *  Aplicar TfidfVectorizer de sklearn:"
      ],
      "metadata": {
        "id": "rUpbp3NVhH-A"
      }
    },
    {
      "cell_type": "code",
      "source": [
        "from sklearn.feature_extraction.text import TfidfVectorizer\n",
        "\n",
        "tfidf_vectorizer = TfidfVectorizer()\n",
        "X_tfidf = tfidf_vectorizer.fit_transform(df['texto_lematizado'])\n",
        "\n",
        "df['texto_lematizado'].head(10)"
      ],
      "metadata": {
        "id": "QYnAbwPohL0c",
        "colab": {
          "base_uri": "https://localhost:8080/",
          "height": 398
        },
        "outputId": "011faba9-26b4-4bc9-b749-04760c96ac8c"
      },
      "execution_count": null,
      "outputs": [
        {
          "output_type": "execute_result",
          "data": {
            "text/plain": [
              "0    thought would big small paper turn like palm t...\n",
              "1               kindle light easy use especially beach\n",
              "2    didnt know much id use kindle went lower end i...\n",
              "3    happy purchase caught sale really good price n...\n",
              "4    solid entry level kindle great kid gifted kid ...\n",
              "5    make excellent ebook reader dont expect much d...\n",
              "6    ordered daughter black paperwhite love read qu...\n",
              "7    bought kindle month ago battery already dead c...\n",
              "8    amazon kindle always best ebook upgrade every ...\n",
              "9    beyond expectation even show music score fast ...\n",
              "Name: texto_lematizado, dtype: object"
            ],
            "text/html": [
              "<div>\n",
              "<style scoped>\n",
              "    .dataframe tbody tr th:only-of-type {\n",
              "        vertical-align: middle;\n",
              "    }\n",
              "\n",
              "    .dataframe tbody tr th {\n",
              "        vertical-align: top;\n",
              "    }\n",
              "\n",
              "    .dataframe thead th {\n",
              "        text-align: right;\n",
              "    }\n",
              "</style>\n",
              "<table border=\"1\" class=\"dataframe\">\n",
              "  <thead>\n",
              "    <tr style=\"text-align: right;\">\n",
              "      <th></th>\n",
              "      <th>texto_lematizado</th>\n",
              "    </tr>\n",
              "  </thead>\n",
              "  <tbody>\n",
              "    <tr>\n",
              "      <th>0</th>\n",
              "      <td>thought would big small paper turn like palm t...</td>\n",
              "    </tr>\n",
              "    <tr>\n",
              "      <th>1</th>\n",
              "      <td>kindle light easy use especially beach</td>\n",
              "    </tr>\n",
              "    <tr>\n",
              "      <th>2</th>\n",
              "      <td>didnt know much id use kindle went lower end i...</td>\n",
              "    </tr>\n",
              "    <tr>\n",
              "      <th>3</th>\n",
              "      <td>happy purchase caught sale really good price n...</td>\n",
              "    </tr>\n",
              "    <tr>\n",
              "      <th>4</th>\n",
              "      <td>solid entry level kindle great kid gifted kid ...</td>\n",
              "    </tr>\n",
              "    <tr>\n",
              "      <th>5</th>\n",
              "      <td>make excellent ebook reader dont expect much d...</td>\n",
              "    </tr>\n",
              "    <tr>\n",
              "      <th>6</th>\n",
              "      <td>ordered daughter black paperwhite love read qu...</td>\n",
              "    </tr>\n",
              "    <tr>\n",
              "      <th>7</th>\n",
              "      <td>bought kindle month ago battery already dead c...</td>\n",
              "    </tr>\n",
              "    <tr>\n",
              "      <th>8</th>\n",
              "      <td>amazon kindle always best ebook upgrade every ...</td>\n",
              "    </tr>\n",
              "    <tr>\n",
              "      <th>9</th>\n",
              "      <td>beyond expectation even show music score fast ...</td>\n",
              "    </tr>\n",
              "  </tbody>\n",
              "</table>\n",
              "</div><br><label><b>dtype:</b> object</label>"
            ]
          },
          "metadata": {},
          "execution_count": 21
        }
      ]
    },
    {
      "cell_type": "code",
      "source": [],
      "metadata": {
        "id": "OOjR2RG7i71_"
      },
      "execution_count": null,
      "outputs": []
    }
  ]
}